import pandas as pd
from sklearn.preprocessing import StandardScaler
import matplotlib.pyplot as plt
import seaborn as sns

rna = pd.read_csv("../data/raw/rna.csv", index_col=0)
meth = pd.read_csv("../data/raw/methylation.csv", index_col=0)
cnv = pd.read_csv("../data/raw/cnv.csv", index_col=0)
labels = pd.read_csv("../data/raw/labels.csv", index_col=0)

# Filter and scale
scaler = StandardScaler()
rna_scaled = pd.DataFrame(scaler.fit_transform(rna.T).T, index=rna.index, columns=rna.columns)
meth_scaled = pd.DataFrame(scaler.fit_transform(meth.T).T, index=meth.index, columns=meth.columns)
cnv_scaled = pd.DataFrame(scaler.fit_transform(cnv.T).T, index=cnv.index, columns=cnv.columns)

# Save processed data
rna_scaled.to_csv("../data/processed/rna.csv")
meth_scaled.to_csv("../data/processed/methylation.csv")
cnv_scaled.to_csv("../data/processed/cnv.csv")
labels.to_csv("../data/processed/labels.csv")

# Plot label distribution
sns.countplot(x=labels['Subtype'])
plt.title("Sample Distribution per Subtype")
plt.show()
